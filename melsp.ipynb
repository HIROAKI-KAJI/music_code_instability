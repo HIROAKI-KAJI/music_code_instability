{
 "cells": [
  {
   "cell_type": "code",
   "execution_count": null,
   "id": "06cef4cf-54f5-4211-a36e-ea1c4acccbd6",
   "metadata": {},
   "outputs": [],
   "source": []
  }
 ],
 "metadata": {
  "kernelspec": {
   "display_name": "",
   "name": ""
  },
  "language_info": {
   "name": ""
  }
 },
 "nbformat": 4,
 "nbformat_minor": 5
}
