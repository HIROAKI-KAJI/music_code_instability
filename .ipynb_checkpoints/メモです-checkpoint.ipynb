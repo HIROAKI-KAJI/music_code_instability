{
 "cells": [
  {
   "cell_type": "markdown",
   "id": "f06187aa-ae33-416c-926a-3ed9f6317860",
   "metadata": {},
   "source": [
    "### 学習に使用する感情情報の設計"
   ]
  },
  {
   "cell_type": "markdown",
   "id": "a1fc9fea-656c-4d13-9f39-8830fb683039",
   "metadata": {},
   "source": [
    "感情情報を学習データに利用する場合、文字ベースで扱う(LLM)的なものか、6次元ほどに次元削減してかつ連続な数値として扱うかの２つが考えられる。\n",
    "\n",
    "今回のタスクの利用用途としては、コード(音声データ化)からコード進行生成をしたい。　鼻歌なども入力としたいので、文字ベースではなく連続的な感情変化の中間的な表現も含めたいそこで数値データを選択した。\n",
    "\n",
    "実装時の感情次元の例\n",
    "\n",
    "\n",
    "次元\t内容\t備考\n",
    "Valence\t　　快/不快\t　   Major調 vs Minor調などに直結しやすい\n",
    "Arousal\t　　興奮/静寂\t　   テンポ感やリズム密度と関係\n",
    "Tension\t　　緊張感\t　　 不協和 or 解決感のあるコード進行と対応\n",
    "Energy\t　　エネルギー感   曲の強度 or ダイナミクス\n",
    "Warmth\t　　優しさ\t　 　和音構成、ストリングス系のBGM向けなど\n",
    "Complexity\t知覚的複雑さ\tコード進行の変化量に対応\n",
    "\n",
    "\n",
    "軸\t感情名・説明\t分類\t備考\n",
    "1\t喜び（Joy）\t基本感情\tポジティブな高覚醒\n",
    "2\t悲しみ（Sadness）\t基本感情\tネガティブな低覚醒\n",
    "3\t怒り（Anger）\t基本感情\tネガティブで高覚醒\n",
    "4\t恐れ（Fear）\t基本感情\t不安や危機感\n",
    "5\t驚き（Surprise）\t基本感情\t意外性、変化への反応\n",
    "6\t嫌悪（Disgust）\t基本感情\t生理的嫌悪や拒絶\n",
    "7\t安心・愛情（Affection/Safety）\t拡張感情\t安定・信頼・親しみ\n",
    "8\t活力（Energy / Arousal）\tVAD\t高覚醒 or 元気度\n",
    "9\t主体性（Dominance）\tVAD\t自信、自己効力感\n",
    "\n",
    "参考: https://github.com/MTG/essentia/wiki/DEAM-Dataset\n",
    "\n",
    "人間の感情モデル\n",
    "代表的な感情表現モデル\n",
    "① 基本感情理論（Ekman）\n",
    "ポール・エクマンが提唱した「基本感情」モデルでは、以下の6種類がよく使われます：\n",
    "\n",
    "喜び（joy）\n",
    "怒り（anger）\n",
    "悲しみ（sadness）\n",
    "驚き（surprise）\n",
    "恐れ（fear）\n",
    "嫌悪（disgust）\n",
    "\n",
    "これは感情分類としてはシンプルかつ効果的で、音声や映像での感情認識にもよく使われています。\n",
    "\n",
    "② Valence-Arousal-Dominance (VAD)モデル\n",
    "連続値での感情表現としてよく使われるもので、次のような3軸があります：\n",
    "\n",
    "Valence（快・不快）\n",
    "Arousal（覚醒レベル）\n",
    "Dominance（支配・非支配）\n",
    "\n",
    "これに「好奇心」や「安心感」など特定の応用軸を加えて、6次元前後に拡張することも可能です。\n",
    "\n",
    "9項目あればひとまず十分そうである。\n"
   ]
  },
  {
   "cell_type": "markdown",
   "id": "bd8eb855-7e34-41d3-ac82-d59eccc898cd",
   "metadata": {},
   "source": []
  },
  {
   "cell_type": "code",
   "execution_count": null,
   "id": "4c6d83d8-b84a-476a-bafe-e7c3a199e705",
   "metadata": {},
   "outputs": [],
   "source": [
    "# google　英単語 ; 感情27項目　⇢　6次元にまとめる。(感情の分岐枝の6分類が各々別の分類と分離できる枝全部で合わせる)\n",
    "\n",
    "https://research.google/blog/goemotions-a-dataset-for-fine-grained-emotion-classification/"
   ]
  },
  {
   "cell_type": "markdown",
   "id": "06fda542-6c7b-455d-9825-74920fe93767",
   "metadata": {},
   "source": [
    "学習用データセットは、\n",
    "{\n",
    " 単語：[0.2,0.4, ...],\n",
    " 単語:[0.3,0.3, ...],\n",
    "}\n",
    "\n",
    "形式とする。"
   ]
  },
  {
   "cell_type": "markdown",
   "id": "cf41d277-a524-46f5-b65c-33a9804634fc",
   "metadata": {},
   "source": []
  },
  {
   "cell_type": "code",
   "execution_count": null,
   "id": "d8aa766b-fef2-4ae4-b7b1-7bbfb4c32831",
   "metadata": {},
   "outputs": [],
   "source": []
  },
  {
   "cell_type": "code",
   "execution_count": null,
   "id": "84198d69-f5c7-4fe8-9f85-11b82f3af09e",
   "metadata": {},
   "outputs": [],
   "source": []
  },
  {
   "cell_type": "code",
   "execution_count": null,
   "id": "1fd66399-959e-44ed-8c02-56357f029ae4",
   "metadata": {},
   "outputs": [],
   "source": []
  },
  {
   "cell_type": "code",
   "execution_count": null,
   "id": "aa5c671f-c085-4a52-aad6-ad6511cfd638",
   "metadata": {},
   "outputs": [],
   "source": []
  }
 ],
 "metadata": {
  "kernelspec": {
   "display_name": "Python 3 (ipykernel)",
   "language": "python",
   "name": "python3"
  },
  "language_info": {
   "codemirror_mode": {
    "name": "ipython",
    "version": 3
   },
   "file_extension": ".py",
   "mimetype": "text/x-python",
   "name": "python",
   "nbconvert_exporter": "python",
   "pygments_lexer": "ipython3",
   "version": "3.10.12"
  }
 },
 "nbformat": 4,
 "nbformat_minor": 5
}
